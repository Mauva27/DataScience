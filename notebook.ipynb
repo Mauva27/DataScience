{
 "cells": [
  {
   "cell_type": "code",
   "execution_count": 2,
   "metadata": {},
   "outputs": [],
   "source": [
    "import numpy as np\n",
    "from IPython.display import display, Markdown, Latex\n",
    "from sample_preparation import sample_preparation"
   ]
  },
  {
   "cell_type": "markdown",
   "metadata": {},
   "source": [
    "## Adelle particles\n",
    "$\\sigma$ = 1.8 $\\mu$m"
   ]
  },
  {
   "cell_type": "code",
   "execution_count": 15,
   "metadata": {},
   "outputs": [],
   "source": [
    "W = 0.0444 # just particle mass in tube (without eppendorf mass)\n",
    "phi = 0.05\n",
    "new = 0.01"
   ]
  },
  {
   "cell_type": "code",
   "execution_count": 16,
   "metadata": {},
   "outputs": [
    {
     "name": "stdout",
     "output_type": "stream",
     "text": [
      "5.0\n",
      "1.0\n"
     ]
    }
   ],
   "source": [
    "print phi*100\n",
    "print new*100"
   ]
  },
  {
   "cell_type": "code",
   "execution_count": 17,
   "metadata": {},
   "outputs": [
    {
     "data": {
      "text/markdown": [
       "The initial packing fraction $\\phi$ = __0.05__"
      ],
      "text/plain": [
       "<IPython.core.display.Markdown object>"
      ]
     },
     "metadata": {},
     "output_type": "display_data"
    },
    {
     "data": {
      "text/markdown": [
       "To adjust to the desire $\\phi$ = __0.01__ add __0.22386084326__ ml"
      ],
      "text/plain": [
       "<IPython.core.display.Markdown object>"
      ]
     },
     "metadata": {},
     "output_type": "display_data"
    }
   ],
   "source": [
    "phi, vc, vs, vs_, phi_ = sample_preparation(W = W, phi = phi, new_phi = new, rho_c = 1.18, rho_s = 0.773)\n",
    "display(Markdown('The initial packing fraction $\\phi$ = __{}__'.format(phi)))\n",
    "display(Markdown('To adjust to the desire $\\phi$ = __{}__ add __{}__ ml'.format(phi_,vs_)))"
   ]
  },
  {
   "cell_type": "markdown",
   "metadata": {},
   "source": [
    "## Adam particles\n",
    "$\\sigma$ = 1.8 $\\mu$m"
   ]
  },
  {
   "cell_type": "code",
   "execution_count": 33,
   "metadata": {},
   "outputs": [],
   "source": [
    "W = 0.0822\n",
    "phi = 0.05\n",
    "new = 0.005"
   ]
  },
  {
   "cell_type": "code",
   "execution_count": 34,
   "metadata": {},
   "outputs": [
    {
     "data": {
      "text/markdown": [
       "The initial packing fraction $\\phi$ = __0.05__"
      ],
      "text/plain": [
       "<IPython.core.display.Markdown object>"
      ]
     },
     "metadata": {},
     "output_type": "display_data"
    },
    {
     "data": {
      "text/markdown": [
       "To adjust to the desire $\\phi$ = __0.005__ add __0.932501418037__ ml"
      ],
      "text/plain": [
       "<IPython.core.display.Markdown object>"
      ]
     },
     "metadata": {},
     "output_type": "display_data"
    }
   ],
   "source": [
    "phi, vc, vs, vs_, phi_ = sample_preparation(W = W, phi = phi, new_phi = new, rho_c = 1.18, rho_s = 0.773)\n",
    "display(Markdown('The initial packing fraction $\\phi$ = __{}__'.format(phi)))\n",
    "display(Markdown('To adjust to the desire $\\phi$ = __{}__ add __{}__ ml'.format(phi_,vs_)))"
   ]
  },
  {
   "cell_type": "code",
   "execution_count": 29,
   "metadata": {},
   "outputs": [
    {
     "data": {
      "text/plain": [
       "0.019500000000000073"
      ]
     },
     "execution_count": 29,
     "metadata": {},
     "output_type": "execute_result"
    }
   ],
   "source": [
    "wepp = 1.0971\n",
    "wp = 1.1166\n",
    "wp - wepp"
   ]
  },
  {
   "cell_type": "markdown",
   "metadata": {},
   "source": [
    "0.3, 0.05, 0.005"
   ]
  }
 ],
 "metadata": {
  "kernelspec": {
   "display_name": "Python 2",
   "language": "python",
   "name": "python2"
  },
  "language_info": {
   "codemirror_mode": {
    "name": "ipython",
    "version": 2
   },
   "file_extension": ".py",
   "mimetype": "text/x-python",
   "name": "python",
   "nbconvert_exporter": "python",
   "pygments_lexer": "ipython2",
   "version": "2.7.16"
  }
 },
 "nbformat": 4,
 "nbformat_minor": 2
}
